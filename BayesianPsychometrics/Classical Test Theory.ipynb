{
 "cells": [
  {
   "cell_type": "markdown",
   "metadata": {},
   "source": [
    "Classical Test Theory with known true score mean, true score variance, and error variance\n",
    "---"
   ]
  },
  {
   "cell_type": "code",
   "execution_count": 2,
   "metadata": {},
   "outputs": [],
   "source": [
    "using Turing\n",
    "using LazyArrays\n",
    "using StatsPlots\n",
    "using StatisticalRethinking;\n",
    "using DataFrames\n",
    "using Optim\n",
    "using StatsBase"
   ]
  },
  {
   "cell_type": "code",
   "execution_count": 3,
   "metadata": {},
   "outputs": [
    {
     "data": {
      "text/plain": [
       "CTT (generic function with 1 method)"
      ]
     },
     "execution_count": 3,
     "metadata": {},
     "output_type": "execute_result"
    }
   ],
   "source": [
    "# Syntax with lazyArrays \n",
    "@model function CTT(observations)\n",
    "    μ_T = 80       # Mean of the true scores\n",
    "    σ²_T = 36      # Variance of the true scores\n",
    "    σ²_E = 16      # Variance of the errors \n",
    "    τ_T = 1 /σ²_T  # Precision of true scores \n",
    "    τ_E = 1 /σ²_E # Precision of the errors \n",
    "    T ~ filldist(Normal(μ_T, τ_T), length(observations))\n",
    "    observations ~ arraydist(LazyArray(@~ Normal.(T,τ_E)))\n",
    "end"
   ]
  },
  {
   "cell_type": "markdown",
   "metadata": {},
   "source": [
    "- It is said that using LazyArrays is more computationally efficient"
   ]
  },
  {
   "cell_type": "code",
   "execution_count": 4,
   "metadata": {},
   "outputs": [
    {
     "data": {
      "text/plain": [
       "CTT2 (generic function with 1 method)"
      ]
     },
     "execution_count": 4,
     "metadata": {},
     "output_type": "execute_result"
    }
   ],
   "source": [
    "# Syntax with lazyArrays \n",
    "@model function CTT2(observations)\n",
    "    μ_T = 80       # Mean of the true scores\n",
    "    σ²_T = 36      # Variance of the true scores\n",
    "    σ²_E = 16      # Variance of the errors \n",
    "    τ_T = 1 /σ²_T  # Precision of true scores \n",
    "    τ_E = 1 /σ²_E # Precision of the errors \n",
    "    m,n = size(observations)\n",
    "    T = Vector{Float64}(undef, m)\n",
    "    for i in 1:m\n",
    "            T[i] ~ Normal(μ_T, τ_T)\n",
    "    end\n",
    "    \n",
    "    for i in 1:m\n",
    "        for j in 1:n\n",
    "            observations[i,j] ~ Normal(T[i], τ_T)\n",
    "        end\n",
    "    end\n",
    "end"
   ]
  },
  {
   "cell_type": "code",
   "execution_count": null,
   "metadata": {},
   "outputs": [],
   "source": [
    "ctt_model = CTT([70, 80, 96])\n",
    "c1 = sample(ctt_model, PG(10), MCMCThreads(),3000,3)\n",
    "DataFrame(summarystats(c1))"
   ]
  },
  {
   "cell_type": "code",
   "execution_count": 31,
   "metadata": {},
   "outputs": [
    {
     "data": {
      "text/plain": [
       "2×3 Matrix{Int64}:\n",
       " 80  77  80\n",
       " 83  10  10"
      ]
     },
     "execution_count": 31,
     "metadata": {},
     "output_type": "execute_result"
    }
   ],
   "source": [
    "[80 77 80; 83 10 10]"
   ]
  },
  {
   "cell_type": "code",
   "execution_count": 114,
   "metadata": {},
   "outputs": [
    {
     "data": {
      "text/plain": [
       "ModeResult with maximized lp of 5.56\n",
       "3-element Named Vector{Float64}\n",
       "A              │ \n",
       "───────────────┼─────\n",
       "Symbol(\"T[1]\") │ 70.0\n",
       "Symbol(\"T[2]\") │ 80.0\n",
       "Symbol(\"T[3]\") │ 96.0"
      ]
     },
     "execution_count": 114,
     "metadata": {},
     "output_type": "execute_result"
    }
   ],
   "source": [
    "MLE_est= optimize(ctt_model, MLE())"
   ]
  },
  {
   "cell_type": "code",
   "execution_count": 106,
   "metadata": {},
   "outputs": [
    {
     "data": {
      "text/plain": [
       "ModeResult with maximized lp of -38038.07\n",
       "3-element Named Vector{Float64}\n",
       "A              │ \n",
       "───────────────┼────────\n",
       "Symbol(\"T[1]\") │ 78.3505\n",
       "Symbol(\"T[2]\") │    80.0\n",
       "Symbol(\"T[3]\") │ 82.6392"
      ]
     },
     "execution_count": 106,
     "metadata": {},
     "output_type": "execute_result"
    }
   ],
   "source": [
    "optimize(ctt_model, MAP())"
   ]
  },
  {
   "cell_type": "code",
   "execution_count": null,
   "metadata": {},
   "outputs": [],
   "source": [
    "@model function CTT2(observations)\n",
    "    μ_T = 80       # Mean of the true scores\n",
    "    σ²_T = 36      # Variance of the true scores\n",
    "    σ²_E = 16      # Variance of the errors \n",
    "    τ_T = 1 /σ²_T  # Precision of true scores \n",
    "    τ_E = 1 /σ²_E # Precision of the errors \n",
    "    m,n = size(observations)\n",
    "    T = Vector{Float64}(undef, m)\n",
    "    for i in 1:m\n",
    "            T[i] ~ Normal(μ_T, τ_T)\n",
    "    end\n",
    "    \n",
    "    for i in 1:m\n",
    "        for j in 1:n\n",
    "            observations[i,j] ~ Normal(T[i], τ_T)\n",
    "        end\n",
    "    end\n",
    "end\n",
    "\n",
    "ctt_model = fasterCTT2(obs)\n",
    "c1 = sample(ctt_model, MH(), MCMCThreads(),3000,10)\n",
    "plot(c1)\n",
    "DataFrame(summarystats(c1))\n",
    "\n",
    "obs = [ 80 77 80 73 73;\n",
    "        83 79 78 78 77;\n",
    "        85 77 88 81 80;\n",
    "        76 76 76 78 67;\n",
    "        70 69 73 71 77;\n",
    "        87 89 92 91 87;\n",
    "        76 75 79 80 75;\n",
    "        86 75 80 80 82;\n",
    "        84 79 79 77 82;\n",
    "        96 85 91 87 90]\n",
    "\n",
    "\n",
    "        @model function fastCTT2(observations)\n",
    "            μ_T = 80       # Mean of the true scores\n",
    "            σ²_T = 36      # Variance of the true scores\n",
    "            σ²_E = 16      # Variance of the errors \n",
    "            τ_T = 1 /σ²_T  # Precision of true scores \n",
    "            τ_E = 1 /σ²_E # Precision of the errors \n",
    "            m,n = size(observations)\n",
    "            T ~ filldist(Normal(μ_T, τ_T), m)\n",
    "            \n",
    "            observations ~ arraydist([Normal(T[i], τ_T) for i in 1:m])\n",
    "        end\n",
    "\n",
    "        @model function fasterCTT2(observations)\n",
    "            μ_T = 80       # Mean of the true scores\n",
    "            σ²_T = 36      # Variance of the true scores\n",
    "            σ²_E = 16      # Variance of the errors \n",
    "            τ_T = 1 /σ²_T  # Precision of true scores \n",
    "            τ_E = 1 /σ²_E # Precision of the errors \n",
    "            m,n = size(observations)\n",
    "            T ~ filldist(Normal(μ_T, τ_T), m)\n",
    "            \n",
    "            observations ~ arraydist(LazyArray(Base.broadcasted((m, s) -> Normal(m, s), T, τ_T)))\n",
    "        end"
   ]
  }
 ],
 "metadata": {
  "@webio": {
   "lastCommId": null,
   "lastKernelId": null
  },
  "kernelspec": {
   "display_name": "Julia 1.6.0",
   "language": "julia",
   "name": "julia-1.6"
  },
  "language_info": {
   "file_extension": ".jl",
   "mimetype": "application/julia",
   "name": "julia",
   "version": "1.6.0"
  }
 },
 "nbformat": 4,
 "nbformat_minor": 4
}
